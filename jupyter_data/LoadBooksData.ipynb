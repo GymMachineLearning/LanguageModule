{
 "cells": [
  {
   "cell_type": "code",
   "execution_count": null,
   "id": "99acf50d-fcc2-4458-9dae-562ff6db9277",
   "metadata": {},
   "outputs": [],
   "source": []
  },
  {
   "cell_type": "code",
   "execution_count": 1,
   "id": "7b4c84a7-4c4a-422e-b38f-d85ebe97cb85",
   "metadata": {},
   "outputs": [],
   "source": [
    "# Źródło funkcji: https://github.com/GymMachineLearning/ml_model_alt/blob/develop/notebooks/nlp.ipynb"
   ]
  },
  {
   "cell_type": "code",
   "execution_count": 2,
   "id": "a315ced7-411e-478e-ab48-8981293c40c1",
   "metadata": {},
   "outputs": [],
   "source": [
    "from io import StringIO\n",
    "from pdfminer.pdfinterp import PDFResourceManager, PDFPageInterpreter\n",
    "from pdfminer.converter import TextConverter\n",
    "from pdfminer.layout import LAParams\n",
    "from pdfminer.pdfpage import PDFPage\n",
    "import os\n",
    "import sys, getopt\n",
    "import json\n",
    "\n",
    "from whoosh import index\n",
    "from whoosh.fields import Schema, TEXT\n",
    "from whoosh.qparser import QueryParser\n",
    "from transformers import pipeline"
   ]
  },
  {
   "cell_type": "markdown",
   "id": "f03bb175-f32d-4c75-b133-d55398bf54ed",
   "metadata": {},
   "source": [
    "# Wczytywanie pliku pdf"
   ]
  },
  {
   "cell_type": "code",
   "execution_count": 3,
   "id": "a190fbd4-0d03-4a04-aec8-94c0940e49b1",
   "metadata": {},
   "outputs": [],
   "source": [
    "schema = Schema(content=TEXT(stored=True))\n",
    "index_dir = \"indexdir\"\n",
    "ix = index.create_in(index_dir, schema)\n",
    "\n",
    "\n",
    "writer = ix.writer()"
   ]
  },
  {
   "cell_type": "code",
   "execution_count": 4,
   "id": "916b7bfb-feb8-4662-9e71-335a93e5012b",
   "metadata": {},
   "outputs": [],
   "source": [
    "def convert(writer,fname, pages=None):\n",
    "    if not pages:\n",
    "        pagenums = set()\n",
    "    else:\n",
    "        pagenums = set(pages)\n",
    "\n",
    "    output = StringIO()\n",
    "    manager = PDFResourceManager()\n",
    "    converter = TextConverter(manager, output, laparams=LAParams())\n",
    "    interpreter = PDFPageInterpreter(manager, converter)\n",
    "\n",
    "    infile = open(fname, 'rb')\n",
    "    for page in PDFPage.get_pages(infile, pagenums):\n",
    "        interpreter.process_page(page)\n",
    "        page_text = output.getvalue()\n",
    "    infile.close()\n",
    "    converter.close()\n",
    "    text = output.getvalue()\n",
    "    output.close\n",
    "    return text "
   ]
  },
  {
   "cell_type": "code",
   "execution_count": 6,
   "id": "2783868d-4ff9-44f5-8025-6a81751b286b",
   "metadata": {},
   "outputs": [],
   "source": [
    "# ścieżka przerabianego pdf'a\n",
    "filename = \"Starting_Strength\"\n",
    "pdf_file = f\"../data/pdf/{filename}.pdf\""
   ]
  },
  {
   "cell_type": "code",
   "execution_count": 19,
   "id": "06bdc41d-8192-4293-92e8-6089db84fce8",
   "metadata": {},
   "outputs": [],
   "source": [
    "# Tworzenie schematu i indeksu\n",
    "schema = Schema(content=TEXT(stored=True))\n",
    "index_dir = \"index\"\n",
    "\n",
    "# Sprawdzenie, czy katalog indeksu istnieje, jeśli nie, to go tworzymy\n",
    "if not os.path.exists(index_dir):\n",
    "    os.mkdir(index_dir)\n",
    "\n",
    "# Sprawdzenie, czy indeks już istnieje\n",
    "if index.exists_in(index_dir):\n",
    "    ix = index.open_dir(index_dir)\n",
    "else:\n",
    "    ix = index.create_in(index_dir, schema)\n",
    "\n",
    "# Dodawanie dokumentów do indeksu\n",
    "def add_documents(writer, documents):\n",
    "    for content in documents:\n",
    "        writer.add_document(content=content)\n",
    "    writer.commit()\n",
    "\n",
    "# Konwersja PDF na tekst i dodawanie do indeksu\n",
    "def convert_and_index(writer, fname, pages=None):\n",
    "    if not pages:\n",
    "        pagenums = set()\n",
    "    else:\n",
    "        pagenums = set(pages)\n",
    "\n",
    "    manager = PDFResourceManager()\n",
    "    laparams = LAParams()\n",
    "    output_text = []  # Lista do przechowywania tekstu z każdej strony\n",
    "\n",
    "    infile = open(fname, 'rb')\n",
    "    for page_number, page in enumerate(PDFPage.get_pages(infile, pagenums), start=1):\n",
    "        output = StringIO()\n",
    "        converter = TextConverter(manager, output, laparams=laparams)\n",
    "        interpreter = PDFPageInterpreter(manager, converter)\n",
    "        \n",
    "        interpreter.process_page(page)\n",
    "        \n",
    "        # Uzyskujemy tekst z aktualnej strony\n",
    "        page_text = output.getvalue()\n",
    "        output_text.append(page_text)  # Dodajemy tekst strony do listy\n",
    "        # Zamykamy konwerter i bufor po przetworzeniu każdej strony\n",
    "        converter.close()\n",
    "        output.close()\n",
    "\n",
    "    infile.close()\n",
    "\n",
    "    # Dodajemy przetworzone strony do indeksu\n",
    "    add_documents(writer, output_text)\n",
    "    return output_text\n",
    "\n",
    "# Uruchamianie konwersji i indeksowania\n",
    "writer = ix.writer()\n",
    "text_pages = convert_and_index(writer, pdf_file, pages=[1, 2, 3])\n"
   ]
  },
  {
   "cell_type": "code",
   "execution_count": 18,
   "id": "6008e287-315c-4f1d-b9f7-6f6daf9896dd",
   "metadata": {},
   "outputs": [
    {
     "name": "stdout",
     "output_type": "stream",
     "text": [
      "Contents \n",
      "\n",
      "Strength: Why and How .............................................................................................................. 2 \n",
      "\n",
      "The Squat ................................................................................................................................ 8 \n",
      "\n",
      "The Bench Press ......................................................................................................................... 66 \n",
      "\n",
      "The Deadlift ............................................................................................................................. 104 \n",
      "\n",
      "The Press .................................................................................................................................. 148 \n",
      "\n",
      "The Power Clean ......................................................................................................... 168 \n",
      "\n",
      "Useful Assistance Exercises ....................................................................................................... 208 \n",
      "\n",
      "Programming ......................................................................................................................................... 284 \n",
      "\n",
      "Credits ................................................................................................................................................... 314 \n",
      "\n",
      "iii \n",
      "\n",
      "\f",
      "\n"
     ]
    }
   ],
   "source": [
    "with ix.searcher() as searcher:\n",
    "    query = QueryParser(\"content\", ix.schema).parse(\"The Squat\")\n",
    "    results = searcher.search(query)\n",
    "    for hit in results:\n",
    "        print(hit['content'])"
   ]
  },
  {
   "cell_type": "markdown",
   "id": "9d0b4eb9-9eaa-4bd4-adf7-ad98387327cf",
   "metadata": {},
   "source": [
    "# Zapisz wczytaną książkę "
   ]
  },
  {
   "cell_type": "code",
   "execution_count": 32,
   "id": "abf738cf-a887-4381-9c1a-bdd3606f3c47",
   "metadata": {},
   "outputs": [
    {
     "data": {
      "text/plain": [
       "['2nd Edition (revised) \\n\\nCopyright © 2007 by Mark Rippetoe and Lon Kilgore \\n\\nEditor - Stef Bradford, Ph.D. \\n\\nAll rights reserved No pan of this publication may be reproduced, stored in a retrieval system or \\ntransmitted in a form by means, electronic, mechanical, photocopied, recorded, or otherwise without the \\npoor written  consent of the publisher. The  authors  and publisher disclaim  any responsibility  for  any \\nadverse effects or consequences  from  the misapplication  or injudicious use of the information presented \\nin this text. \\n\\nISBN  0-9768054-2-1 \\n\\nPrinted in  the United States of America  10  9  8  7 \\n\\nThe Aasgaard  Company \\n\\n3118 Buchanan, Wichita Falls, TX 76308, USA \\n\\nii \\n\\n\\x0c',\n",
       " 'Contents \\n\\nStrength: Why and How .............................................................................................................. 2 \\n\\nThe Squat ................................................................................................................................ 8 \\n\\nThe Bench Press ......................................................................................................................... 66 \\n\\nThe Deadlift ............................................................................................................................. 104 \\n\\nThe Press .................................................................................................................................. 148 \\n\\nThe Power Clean ......................................................................................................... 168 \\n\\nUseful Assistance Exercises ....................................................................................................... 208 \\n\\nProgramming ......................................................................................................................................... 284 \\n\\nCredits ................................................................................................................................................... 314 \\n\\niii \\n\\n\\x0c']"
      ]
     },
     "execution_count": 32,
     "metadata": {},
     "output_type": "execute_result"
    }
   ],
   "source": [
    "text_pages[1:3]"
   ]
  },
  {
   "cell_type": "code",
   "execution_count": 28,
   "id": "b8198219-fe9f-4214-b69a-d7413becdcd0",
   "metadata": {},
   "outputs": [],
   "source": [
    "pdf_output_path = f\"../data/decoded_pdfs/{filename}.json\""
   ]
  },
  {
   "cell_type": "code",
   "execution_count": 31,
   "id": "8f0875fe-a50b-4659-a892-a354f301738d",
   "metadata": {},
   "outputs": [],
   "source": [
    "# Tworzymy słownik, gdzie klucze to numery stron\n",
    "pages_dict = {f\"page-{i+1}\": text for i, text in enumerate(text_pages)}\n",
    "\n",
    "# Zapisujemy do pliku JSON\n",
    "with open(pdf_output_path, \"w\", encoding=\"utf-8\") as file:\n",
    "    json.dump(pages_dict, file, ensure_ascii=False, indent=4)"
   ]
  },
  {
   "cell_type": "markdown",
   "id": "f5ca9b63-29cd-4b03-92fc-e39d51f88324",
   "metadata": {},
   "source": [
    "# Odczyt pliku"
   ]
  },
  {
   "cell_type": "code",
   "execution_count": 34,
   "id": "ffd41d64-f204-4876-a498-da42918907aa",
   "metadata": {},
   "outputs": [
    {
     "name": "stdout",
     "output_type": "stream",
     "text": [
      "2nd Edition (revised) \n",
      "\n",
      "Copyright © 2007 by Mark Rippetoe and Lon Kilgore \n",
      "\n",
      "Editor - Stef Bradford, Ph.D. \n",
      "\n",
      "All rights reserved No pan of this publication may be reproduced, stored in a retrieval system or \n",
      "transmitted in a form by means, electronic, mechanical, photocopied, recorded, or otherwise without the \n",
      "poor written  consent of the publisher. The  authors  and publisher disclaim  any responsibility  for  any \n",
      "adverse effects or consequences  from  the misapplication  or injudicious use of the information presented \n",
      "in this text. \n",
      "\n",
      "ISBN  0-9768054-2-1 \n",
      "\n",
      "Printed in  the United States of America  10  9  8  7 \n",
      "\n",
      "The Aasgaard  Company \n",
      "\n",
      "3118 Buchanan, Wichita Falls, TX 76308, USA \n",
      "\n",
      "ii \n",
      "\n",
      "\f",
      "\n"
     ]
    }
   ],
   "source": [
    "# Odczyt z pliku JSON\n",
    "with open(pdf_output_path, \"r\", encoding=\"utf-8\") as file:\n",
    "    pages_dict = json.load(file)\n",
    "\n",
    "# Pobieramy konkretną stronę\n",
    "page_number = \"page-2\"\n",
    "print(pages_dict.get(page_number, \"Strona nie istnieje\"))"
   ]
  },
  {
   "cell_type": "code",
   "execution_count": null,
   "id": "732a87a9-773c-4a47-b080-ce13b86e1275",
   "metadata": {},
   "outputs": [],
   "source": []
  }
 ],
 "metadata": {
  "kernelspec": {
   "display_name": "Python 3 (ipykernel)",
   "language": "python",
   "name": "python3"
  },
  "language_info": {
   "codemirror_mode": {
    "name": "ipython",
    "version": 3
   },
   "file_extension": ".py",
   "mimetype": "text/x-python",
   "name": "python",
   "nbconvert_exporter": "python",
   "pygments_lexer": "ipython3",
   "version": "3.12.6"
  }
 },
 "nbformat": 4,
 "nbformat_minor": 5
}
