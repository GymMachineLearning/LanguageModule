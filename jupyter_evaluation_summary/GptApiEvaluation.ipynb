{
 "cells": [
  {
   "cell_type": "code",
   "execution_count": 4,
   "id": "fb453d4e-242a-4f34-adb4-fc9581f290c4",
   "metadata": {},
   "outputs": [],
   "source": [
    "import openai\n",
    "import os\n",
    "import numpy as np\n",
    "import time\n",
    "import re\n",
    "import pickle\n",
    "import json"
   ]
  },
  {
   "cell_type": "code",
   "execution_count": 5,
   "id": "1976cb4c-6b54-450b-8a16-727436826331",
   "metadata": {},
   "outputs": [],
   "source": [
    "# Ścieżka do folderu z plikami\n",
    "dataset_path = \"../../ML_Model/datasets/tested_dataset/final_dataset/final_test.pkl\""
   ]
  },
  {
   "cell_type": "markdown",
   "id": "a4977c38-cb3c-4750-90ed-8991e942ea49",
   "metadata": {},
   "source": [
    "# Preprocessing dataset"
   ]
  },
  {
   "cell_type": "code",
   "execution_count": 6,
   "id": "ceb77ec9-9ba7-4b4e-a2a9-2c0fb9d2d263",
   "metadata": {},
   "outputs": [],
   "source": [
    "# Wczytanie pliku\n",
    "with open(dataset_path, 'rb') as f:\n",
    "    data = pickle.load(f)"
   ]
  },
  {
   "cell_type": "code",
   "execution_count": 7,
   "id": "c5913904-8ec0-48d2-bdb4-1521ccbdcd8d",
   "metadata": {},
   "outputs": [],
   "source": [
    "labels = data['labels']\n",
    "answers = data['answer']\n",
    "evaluations = data['rating']\n",
    "fps = data['fps']\n",
    "filenames = data['video_url']\n",
    "tricks = data['tricks']\n",
    "labels_type = [\n",
    "    \"Squat-depth\" ,\n",
    "    \"Back-round\" ,\n",
    "    \"Taking-off-foot\",\n",
    "    \"Knee-collapse\" ,\n",
    "    \"Butt-wink\" ,\n",
    "    \"Dominant-hip\" ,\n",
    "    \"Lack-of-abdominal-tension\",\n",
    "    \"No-knee-outlet\" \n",
    "]"
   ]
  },
  {
   "cell_type": "markdown",
   "id": "062ffc15-60b6-4498-a02b-1da11149cfdd",
   "metadata": {},
   "source": [
    "# Api"
   ]
  },
  {
   "cell_type": "code",
   "execution_count": 8,
   "id": "839ae099-32b3-409c-acea-91a682c9fa84",
   "metadata": {},
   "outputs": [],
   "source": [
    "# Inicjalizacja klienta Cohere\n",
    "# https://cohere.com/\n",
    "\n",
    "with open('../api.txt', 'r', encoding='utf-8') as file:\n",
    "    for line in file:\n",
    "        if 'gpt:' in line:\n",
    "            # Wyciągamy tekst po \"cohere:\"\n",
    "            key_api = line.split('gpt:')[1].strip()\n",
    "\n",
    "# Moje api\n",
    "openai.api_key = key_api\n",
    "\n",
    "from openai import OpenAI\n",
    "\n",
    "client = OpenAI(\n",
    "    api_key = key_api,\n",
    ")"
   ]
  },
  {
   "cell_type": "markdown",
   "id": "db86276b-f4a7-453a-876a-387e045b647d",
   "metadata": {},
   "source": [
    "# Generowanie opdowiedzi"
   ]
  },
  {
   "cell_type": "code",
   "execution_count": 9,
   "id": "6fc0feb5-0826-4089-b9d8-6a8f8bbca31c",
   "metadata": {},
   "outputs": [],
   "source": [
    "def query_gpt(prompt, data):\n",
    "    try:\n",
    "        prompt += \"Data: \" + data[0]\n",
    "        #prompt += f\"\\n Summary of technique:  {data[1]}\"\n",
    "        prompt += f\"\\n Overall evaluation:  {data[2]}\"\n",
    "        #prompt += f\"\\n fps of video: {data[3]}\"\n",
    "        \n",
    "        # Query GPT using the new API method\n",
    "        response =  client.chat.completions.create(\n",
    "            model=\"gpt-3.5-turbo\",  # You can use \"gpt-4\", \"gpt-4-turbo\", or \"gpt-3.5-turbo\"\n",
    "            messages=[\n",
    "                {\"role\": \"system\", \"content\": \"You are a helpful assistant.\"},\n",
    "                {\"role\": \"user\", \"content\": prompt}\n",
    "            ],\n",
    "            max_tokens=50,\n",
    "            temperature=0.7\n",
    "        )\n",
    "        \n",
    "        # Extract and return the response text\n",
    "        return response.choices[0].message.content.strip()\n",
    "\n",
    "    except Exception as e:\n",
    "        print(\"error\")\n",
    "        return str(e)"
   ]
  },
  {
   "cell_type": "code",
   "execution_count": 10,
   "id": "68c21381-482b-4bab-b86d-3f2dad30c135",
   "metadata": {},
   "outputs": [],
   "source": [
    "# Zbudowanie promptu na podstawie komentarzy\n",
    "prompt = \"You will get data about a recording in which there is a person squatting with a barbell and weight. Then you will get data for this recording, the first is an array where in each row there is an error and information about the time intervals in which the error occurred. Analyze this data and describe it for the user. Do not describe when the errors occurred, but rather what errors occurred and how many times. In the second section describe how the problems can be solved. List possible causes of their occurrence. Do not exceed 1000 characters. Avoid general answers like: 'The error is due to poor technique' \""
   ]
  },
  {
   "cell_type": "code",
   "execution_count": 11,
   "id": "f50b04b7-a391-4a89-92a2-36f2a346ca82",
   "metadata": {},
   "outputs": [
    {
     "name": "stdout",
     "output_type": "stream",
     "text": [
      "Wyniki dla nagrania: s3://squat-label-studio/squats/lifting/0-0084-50-7-0-2-0-0.mp4, numer 0\n",
      "****************************************************************************************************\n",
      "Analysis: \n",
      " From the data provided, it appears that there were two instances of errors observed during the recording of a person squatting with a barbell and weight. The errors identified were related to the \"Dominant-hip\" and occurred during two time intervals:\n",
      "\n",
      "****************************************************************************************************\n",
      "Przetwarzanie trwało 1.3112 sekundy\n",
      "----------------------------------------\n",
      "Wyniki dla nagrania: s3://squat-label-studio/squats/lifting/0-0085-80-8-1-2-0-0.mp4, numer 1\n",
      "****************************************************************************************************\n",
      "Analysis: \n",
      " In the recording, errors observed include: 1) Excessive forward lean during squat, occurring 3 times. 2) Barbell path deviation, occurring 2 times. 3) Weight shifting to one side, occurring 1 time.\n",
      "\n",
      "****************************************************************************************************\n",
      "Przetwarzanie trwało 0.9728 sekundy\n",
      "----------------------------------------\n",
      "Wyniki dla nagrania: s3://squat-label-studio/squats/lifting/0-0086-1-5-0-3-0-0.mp4, numer 2\n",
      "****************************************************************************************************\n",
      "Analysis: \n",
      " The errors observed in the recording of the person squatting with a barbell and weight are related to \"Butt-wink.\" This error occurred a total of 6 times during the recording. \n",
      "\n",
      "To address the issue of Butt-wink, the\n",
      "\n",
      "****************************************************************************************************\n",
      "Przetwarzanie trwało 0.9268 sekundy\n",
      "----------------------------------------\n",
      "Wyniki dla nagrania: s3://squat-label-studio/squats/self_recorded/Jakub_Kępka/0-0087-30-5-1-1-1-0.mp4, numer 3\n",
      "****************************************************************************************************\n",
      "Analysis: \n",
      " Based on the data provided, the main error observed during the recording of the person squatting with a barbell and weight is \"Knee-collapse.\" This error occurred multiple times throughout the recording, with a total of 3 instances noted. The error\n",
      "\n",
      "****************************************************************************************************\n",
      "Przetwarzanie trwało 0.8880 sekundy\n",
      "----------------------------------------\n",
      "Wyniki dla nagrania: s3://squat-label-studio/squats/self_recorded/Jakub_Kępka/0-0088-30-5-1-1-1-0.mp4, numer 4\n"
     ]
    }
   ],
   "source": [
    "analysis_comments_prompt = {}\n",
    "# Ustawienie wyświetlania pełnych tablic\n",
    "np.set_printoptions(threshold=np.inf)\n",
    "\n",
    "# Wyświetlenie wyników\n",
    "for i, filename in enumerate(filenames):\n",
    "    start_time = time.time()\n",
    "\n",
    "    print(f\"Wyniki dla nagrania: {filename}, numer {i}\")\n",
    "    if i >= 4:\n",
    "        break\n",
    "        \n",
    "    label = labels[i]\n",
    "    answer = answers[i]\n",
    "    evaluation = json.loads(evaluations[i])[0][\"number\"]\n",
    "    fps_ = fps[i]\n",
    "    trick = tricks[i]\n",
    "    \n",
    "    ## Łączenie labels z labels_type\n",
    "    #combined_data = []\n",
    "    #for label_row, label_type in zip(trick, labels_type):\n",
    "    #    combined_data.append({\"type\": label_type, \"values\": label_row})\n",
    "        \n",
    "    result_string = \"\"\n",
    "    if not isinstance(trick, float):\n",
    "        for item in trick:\n",
    "            result_string += f\"start: {round(item['start'],2)}, end: {round(item['end'],2)} : {item['labels']}\\n\"\n",
    "            \n",
    "    data_input = [result_string, answer, evaluation, fps_]\n",
    "    \n",
    "    # Generowanie analizy techniki, jeśli komentarze istnieją\n",
    "    analysis = query_gpt(prompt, data_input)\n",
    "\n",
    "    # Dodajemy wynik do listy\n",
    "    analysis_comments_prompt[filename] = {\n",
    "        'Analysis': analysis\n",
    "    }\n",
    "    \n",
    "    print('*'*100)\n",
    "    print(f\"Analysis: \\n {analysis}\\n\")\n",
    "    print('*'*100)\n",
    "    \n",
    "    end_time = time.time()\n",
    "    print(f\"Przetwarzanie trwało {end_time - start_time:.4f} sekundy\")\n",
    "    \n",
    "    print(\"-\" * 40)"
   ]
  },
  {
   "cell_type": "code",
   "execution_count": null,
   "id": "aa410b4a-1e44-467d-bb70-da58fe223331",
   "metadata": {},
   "outputs": [],
   "source": []
  }
 ],
 "metadata": {
  "kernelspec": {
   "display_name": "Python 3 (ipykernel)",
   "language": "python",
   "name": "python3"
  },
  "language_info": {
   "codemirror_mode": {
    "name": "ipython",
    "version": 3
   },
   "file_extension": ".py",
   "mimetype": "text/x-python",
   "name": "python",
   "nbconvert_exporter": "python",
   "pygments_lexer": "ipython3",
   "version": "3.12.6"
  }
 },
 "nbformat": 4,
 "nbformat_minor": 5
}
