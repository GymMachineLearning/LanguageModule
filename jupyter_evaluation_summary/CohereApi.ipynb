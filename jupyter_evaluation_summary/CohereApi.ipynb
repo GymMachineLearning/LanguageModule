{
 "cells": [
  {
   "cell_type": "code",
   "execution_count": 24,
   "id": "d347cca7-bc75-4506-87ca-2567486eba80",
   "metadata": {},
   "outputs": [],
   "source": [
    "import cohere\n",
    "import os\n",
    "import time\n",
    "import re\n",
    "import pickle\n",
    "import numpy as np\n",
    "import json"
   ]
  },
  {
   "cell_type": "code",
   "execution_count": 5,
   "id": "4ba3ef23-0d52-4e98-a88b-c4ad12687685",
   "metadata": {},
   "outputs": [],
   "source": [
    "# Ścieżka do folderu z plikami\n",
    "dataset_path = \"../../ML_Model/datasets/tested_dataset/final_dataset/final_test.pkl\""
   ]
  },
  {
   "cell_type": "markdown",
   "id": "f181eb3e-501b-4455-8399-7a2dca1e6c85",
   "metadata": {},
   "source": [
    "# Preprocessing dataset"
   ]
  },
  {
   "cell_type": "code",
   "execution_count": 36,
   "id": "2fbc6947-e5d1-499b-be18-b550d2910289",
   "metadata": {},
   "outputs": [],
   "source": [
    "# Wczytanie pliku\n",
    "with open(dataset_path, 'rb') as f:\n",
    "    data = pickle.load(f)"
   ]
  },
  {
   "cell_type": "code",
   "execution_count": 37,
   "id": "f4ba772b-43e3-4e88-a05c-90883008af1b",
   "metadata": {},
   "outputs": [],
   "source": [
    "labels = data['labels']\n",
    "answers = data['answer']\n",
    "evaluations = data['rating']\n",
    "fps = data['fps']"
   ]
  },
  {
   "cell_type": "markdown",
   "id": "17ec91f0-5ffb-4319-b4f9-445c77faf5cc",
   "metadata": {},
   "source": [
    "# Api"
   ]
  },
  {
   "cell_type": "code",
   "execution_count": 39,
   "id": "0673495d-cd3c-4519-b634-60953f0ffccf",
   "metadata": {},
   "outputs": [],
   "source": [
    "# Inicjalizacja klienta Cohere\n",
    "# https://cohere.com/\n",
    "# https://docs.cohere.com/reference/embed\n",
    "\n",
    "with open('../api.txt', 'r', encoding='utf-8') as file:\n",
    "    for line in file:\n",
    "        if 'cohere:' in line:\n",
    "            # Wyciągamy tekst po \"cohere:\"\n",
    "            key_api = line.split('cohere:')[1].strip()\n",
    "            \n",
    "co = cohere.Client(key_api)"
   ]
  },
  {
   "cell_type": "markdown",
   "id": "cffa64f9-6527-41ab-8afc-fde7d226039a",
   "metadata": {},
   "source": [
    "# Generowanie odpowiedzi"
   ]
  },
  {
   "cell_type": "code",
   "execution_count": null,
   "id": "6750c06d-dee2-4e99-a0ba-9317c3256ec0",
   "metadata": {},
   "outputs": [],
   "source": [
    "# Funkcja do generowania analizy techniki z komentarzy\n",
    "def generate_technique_analysis_prompt(data, prompt):\n",
    "    prompt += \"\\n\".join(data)  # Łączymy wszystkie komentarze w jeden ciąg\n",
    "    \n",
    "    response = co.generate(\n",
    "        model='command',  # Poprawiony model\n",
    "        prompt=prompt,\n",
    "        max_tokens=300,\n",
    "        temperature=0.7\n",
    "    )\n",
    "    \n",
    "    # Zwracamy wygenerowaną odpowiedź\n",
    "    return response.generations[0].text"
   ]
  },
  {
   "cell_type": "code",
   "execution_count": null,
   "id": "590df531-6109-4197-940d-dfd4edf685ac",
   "metadata": {},
   "outputs": [],
   "source": [
    "# Zbudowanie promptu na podstawie komentarzy\n",
    "prompt = \"Please analyze the following comments and provide a detailed analysis of exercise technique improvement: Get information from all comments below. Let your answer be coherent\\n\\n\""
   ]
  },
  {
   "cell_type": "code",
   "execution_count": null,
   "id": "25ffc31d-4483-43c8-b6d4-ee13df5c6f82",
   "metadata": {},
   "outputs": [],
   "source": [
    "analysis_comments_prompt = {}\n",
    "\n",
    "# Wyświetlenie wyników\n",
    "for i, data in enumerate(labels):\n",
    "    start_time = time.time()\n",
    "\n",
    "    print(f\"Wyniki dla nagrania: {filename}, numer {i}\")\n",
    "    if i >= 3:\n",
    "        break\n",
    "        \n",
    "    label = labels[i]\n",
    "    answer = answers[i]\n",
    "    evaluation = json.loads(evaluations[i])[0][\"number\"]\n",
    "    fps_ = fps[i]\n",
    "\n",
    "    data_input = [label, answer, evaluation, fps_]\n",
    "    \n",
    "    # Generowanie analizy techniki, jeśli komentarze istnieją\n",
    "    if comments:\n",
    "        analysis = generate_technique_analysis_prompt(data_input, prompt)\n",
    "    else:\n",
    "        analysis = \"No comments available for analysis.\"\n",
    "    \n",
    "    # Dodajemy wynik do listy\n",
    "    analysis_comments_prompt[filename] = {\n",
    "        'Title': title,\n",
    "        'URL': url,\n",
    "        'Selftext': selftext,\n",
    "        'Media': media,\n",
    "        'Comments' : comments,\n",
    "        'Analysis': analysis\n",
    "    }\n",
    "    \n",
    "    print('*'*100)\n",
    "    print(f\"Title: {title}\")\n",
    "    print(f\"URL: {url}\")\n",
    "    print(f\"Selftext: {selftext}\")\n",
    "    print(f\"Media: {media}\")\n",
    "    print('+'*100)\n",
    "    print(f\"Komentarze: \\n {comments}\\n\")\n",
    "    print('+'*100)\n",
    "    print('-'*100)\n",
    "    print(f\"Analysis: \\n {analysis}\\n\")\n",
    "    print('-'*100)\n",
    "    print('*'*100)\n",
    "    \n",
    "    end_time = time.time()\n",
    "    print(f\"Przetwarzanie trwało {end_time - start_time:.4f} sekundy\")\n",
    "    \n",
    "    print(\"-\" * 40)"
   ]
  }
 ],
 "metadata": {
  "kernelspec": {
   "display_name": "Python 3 (ipykernel)",
   "language": "python",
   "name": "python3"
  },
  "language_info": {
   "codemirror_mode": {
    "name": "ipython",
    "version": 3
   },
   "file_extension": ".py",
   "mimetype": "text/x-python",
   "name": "python",
   "nbconvert_exporter": "python",
   "pygments_lexer": "ipython3",
   "version": "3.12.6"
  }
 },
 "nbformat": 4,
 "nbformat_minor": 5
}
