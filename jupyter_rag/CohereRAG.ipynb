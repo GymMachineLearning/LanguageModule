{
 "cells": [
  {
   "cell_type": "code",
   "execution_count": 1,
   "id": "edcbc728-e0b3-4031-a8d7-a01412e92d4e",
   "metadata": {},
   "outputs": [
    {
     "name": "stdout",
     "output_type": "stream",
     "text": [
      "C:\\Users\\kubak\\Desktop\\engineer-project\\github\\LanguageModule\n"
     ]
    },
    {
     "name": "stderr",
     "output_type": "stream",
     "text": [
      "C:\\Users\\kubak\\AppData\\Local\\Programs\\Python\\Python312\\Lib\\site-packages\\IPython\\core\\magics\\osm.py:417: UserWarning: This is now an optional IPython functionality, setting dhist requires you to install the `pickleshare` library.\n",
      "  self.shell.db['dhist'] = compress_dhist(dhist)[-100:]\n"
     ]
    }
   ],
   "source": [
    "%cd .."
   ]
  },
  {
   "cell_type": "code",
   "execution_count": 2,
   "id": "93d4f257-320c-4125-9055-709e0ceb7b85",
   "metadata": {},
   "outputs": [],
   "source": [
    "import cohere\n",
    "import os\n",
    "import json"
   ]
  },
  {
   "cell_type": "markdown",
   "id": "b5d20f8a-a141-4294-b9a8-2bd5cc33bdd8",
   "metadata": {},
   "source": [
    "# Łączenie się z api cohere"
   ]
  },
  {
   "cell_type": "code",
   "execution_count": 3,
   "id": "c904bf25-20b1-40e5-8fdf-50bb895bcbcd",
   "metadata": {},
   "outputs": [],
   "source": [
    "# Inicjalizacja klienta Cohere\n",
    "# https://cohere.com/\n",
    "# https://docs.cohere.com/reference/embed\n",
    "\n",
    "with open('./api.txt', 'r', encoding='utf-8') as file:\n",
    "    for line in file:\n",
    "        if 'cohere:' in line:\n",
    "            # Wyciągamy tekst po \"cohere:\"\n",
    "            key_api = line.split('cohere:')[1].strip()\n",
    "            \n",
    "co = cohere.Client(key_api)"
   ]
  },
  {
   "cell_type": "markdown",
   "id": "489d4b78-289e-4fe2-aa6d-354ce08df0cb",
   "metadata": {},
   "source": [
    "# Pobieranie dokumentów"
   ]
  },
  {
   "cell_type": "code",
   "execution_count": 4,
   "id": "a17cb39b-1c7f-4d6e-905f-2830f4962659",
   "metadata": {},
   "outputs": [],
   "source": [
    "documents_path =  f\"./data/decoded_pdfs/\""
   ]
  },
  {
   "cell_type": "code",
   "execution_count": 5,
   "id": "9007e90e-2f5a-4f4f-86c9-9f1ff1ba3ad0",
   "metadata": {},
   "outputs": [],
   "source": [
    "# Lista do przechowywania zawartości książek\n",
    "documents = []\n",
    "\n",
    "# Iteracja przez wszystkie pliki w folderze\n",
    "for i, filename in enumerate(os.listdir(documents_path)):\n",
    "    if filename.endswith(\".json\"):  # Sprawdzenie, czy plik ma rozszerzenie .json\n",
    "        file_path = os.path.join(documents_path, filename)\n",
    "        \n",
    "        # Otwórz plik JSON i załaduj dane\n",
    "        with open(file_path, \"r\", encoding=\"utf-8\") as file:\n",
    "            book_content = json.load(file)\n",
    "        \n",
    "        # Połącz zawartość wszystkich stron w jedną zmienną tekstową\n",
    "        full_text = \" \".join(book_content.values())\n",
    "\n",
    "        #print(i, full_text)\n",
    "        # Dodaj pełny tekst książki do listy documents\n",
    "        documents.append(full_text)"
   ]
  },
  {
   "cell_type": "markdown",
   "id": "6ff526a6-6e83-4bc0-950c-35f2f8cda7ae",
   "metadata": {},
   "source": [
    "# RAG - łączenie dokumentów"
   ]
  },
  {
   "cell_type": "code",
   "execution_count": 6,
   "id": "7ce52d67-47d5-4227-800d-e505e82ab879",
   "metadata": {},
   "outputs": [],
   "source": [
    "# Funkcja do wyszukiwania dokumentów w zbiorze\n",
    "def retrieve_relevant_documents(query, documents):\n",
    "    response = co.rerank(\n",
    "        model=\"rerank-english-v2.0\",\n",
    "        query=query,\n",
    "        documents=documents,\n",
    "        top_n=1  # Liczba dokumentów do zwrócenia\n",
    "    )\n",
    "    return response\n",
    "\n",
    "# Funkcja do generowania odpowiedzi\n",
    "def generate_response(query, context):\n",
    "    response = co.generate(\n",
    "        model=\"command\",  # Model generowania Cohere\n",
    "        prompt=f\"Użytkownik pyta: {query}\\n\"\n",
    "               f\"Kontekst: {context}\\n\"\n",
    "               f\"Odpowiedz:\",\n",
    "        max_tokens=100,  # Maksymalna długość odpowiedzi\n",
    "        temperature=0.7  # Stopień kreatywności odpowiedzi\n",
    "    )\n",
    "    return response.generations[0].text.strip()\n",
    "\n"
   ]
  },
  {
   "cell_type": "code",
   "execution_count": 7,
   "id": "3d686284-af28-4330-814a-87a430d3624d",
   "metadata": {},
   "outputs": [],
   "source": [
    "# Przykład zapytania użytkownika\n",
    "query = \"Why do we need to squat low bar?\"\n",
    "\n",
    "# Krok 1: Znalezienie najbardziej adekwatnego dokumentu\n",
    "retrieval_result = retrieve_relevant_documents(query, documents)\n",
    "most_relevant_document = retrieval_result.results[0].document\n",
    "\n",
    "# Krok 2: Wygenerowanie odpowiedzi w oparciu o znaleziony kontekst\n",
    "response = generate_response(query, most_relevant_document)\n"
   ]
  },
  {
   "cell_type": "code",
   "execution_count": 8,
   "id": "6aad902f-6bb3-480f-bb36-e599c4491c62",
   "metadata": {},
   "outputs": [
    {
     "name": "stdout",
     "output_type": "stream",
     "text": [
      "Pytanie użytkownika: Why do we need to squat low bar?\n",
      "Najbardziej adekwatny dokument: None\n",
      "Odpowiedź: Squatting low bar is beneficial to strengthen the lower body and core muscles. The squat is a functional exercise that replicates getting up and sitting down, which is a daily movement. This variation of the squat also helps improve your posture and lower body alignment, as it focuses on the hamstring and posterior chain muscles rather than the quadriceps. \n",
      "\n",
      "Developing strength in the squat movement is important to improve leg and core strength and overall stability. This exercise also helps improve mobility if you consistently go shallow\n"
     ]
    }
   ],
   "source": [
    "# Wyświetlenie wyniku\n",
    "print(\"Pytanie użytkownika:\", query)\n",
    "print(\"Najbardziej adekwatny dokument:\", most_relevant_document)\n",
    "print(\"Odpowiedź:\", response)"
   ]
  },
  {
   "cell_type": "code",
   "execution_count": null,
   "id": "5229709f-1bb6-4a2a-8525-4b6fcd945903",
   "metadata": {},
   "outputs": [],
   "source": []
  }
 ],
 "metadata": {
  "kernelspec": {
   "display_name": "Python 3 (ipykernel)",
   "language": "python",
   "name": "python3"
  },
  "language_info": {
   "codemirror_mode": {
    "name": "ipython",
    "version": 3
   },
   "file_extension": ".py",
   "mimetype": "text/x-python",
   "name": "python",
   "nbconvert_exporter": "python",
   "pygments_lexer": "ipython3",
   "version": "3.12.6"
  }
 },
 "nbformat": 4,
 "nbformat_minor": 5
}
