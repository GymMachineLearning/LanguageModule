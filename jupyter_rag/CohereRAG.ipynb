{
 "cells": [
  {
   "cell_type": "code",
   "execution_count": 1,
   "id": "edcbc728-e0b3-4031-a8d7-a01412e92d4e",
   "metadata": {},
   "outputs": [
    {
     "name": "stdout",
     "output_type": "stream",
     "text": [
      "C:\\Users\\kubak\\Desktop\\engineer-project\\github\\LanguageModule\n"
     ]
    },
    {
     "name": "stderr",
     "output_type": "stream",
     "text": [
      "C:\\Users\\kubak\\AppData\\Local\\Programs\\Python\\Python312\\Lib\\site-packages\\IPython\\core\\magics\\osm.py:417: UserWarning: This is now an optional IPython functionality, setting dhist requires you to install the `pickleshare` library.\n",
      "  self.shell.db['dhist'] = compress_dhist(dhist)[-100:]\n"
     ]
    }
   ],
   "source": [
    "%cd .."
   ]
  },
  {
   "cell_type": "code",
   "execution_count": 2,
   "id": "93d4f257-320c-4125-9055-709e0ceb7b85",
   "metadata": {},
   "outputs": [],
   "source": [
    "import cohere\n",
    "import os\n",
    "import json"
   ]
  },
  {
   "cell_type": "markdown",
   "id": "b5d20f8a-a141-4294-b9a8-2bd5cc33bdd8",
   "metadata": {},
   "source": [
    "# Łączenie się z api cohere"
   ]
  },
  {
   "cell_type": "code",
   "execution_count": 3,
   "id": "c904bf25-20b1-40e5-8fdf-50bb895bcbcd",
   "metadata": {},
   "outputs": [],
   "source": [
    "# Inicjalizacja klienta Cohere\n",
    "# https://cohere.com/\n",
    "# https://docs.cohere.com/reference/embed\n",
    "\n",
    "with open('./api.txt', 'r', encoding='utf-8') as file:\n",
    "    for line in file:\n",
    "        if 'cohere:' in line:\n",
    "            # Wyciągamy tekst po \"cohere:\"\n",
    "            key_api = line.split('cohere:')[1].strip()\n",
    "            \n",
    "co = cohere.Client(key_api)"
   ]
  },
  {
   "cell_type": "markdown",
   "id": "489d4b78-289e-4fe2-aa6d-354ce08df0cb",
   "metadata": {},
   "source": [
    "# Pobieranie dokumentów"
   ]
  },
  {
   "cell_type": "code",
   "execution_count": 4,
   "id": "a17cb39b-1c7f-4d6e-905f-2830f4962659",
   "metadata": {},
   "outputs": [],
   "source": [
    "documents_path =  f\"./data/decoded_pdfs/\""
   ]
  },
  {
   "cell_type": "code",
   "execution_count": 5,
   "id": "58d57e99-4f12-4e57-b470-c1cd7d6dd05d",
   "metadata": {},
   "outputs": [],
   "source": [
    "def split_into_paragraphs(text):\n",
    "    # Split the text into paragraphs by empty lines\n",
    "    paragraphs = [paragraph.strip() for paragraph in text.split('\\n\\n') if paragraph.strip()]\n",
    "    return paragraphs"
   ]
  },
  {
   "cell_type": "code",
   "execution_count": 6,
   "id": "9007e90e-2f5a-4f4f-86c9-9f1ff1ba3ad0",
   "metadata": {
    "scrolled": true
   },
   "outputs": [],
   "source": [
    "# Lista do przechowywania zawartości książek\n",
    "documents = []\n",
    "\n",
    "# Iteracja przez wszystkie pliki w folderze\n",
    "for i, filename in enumerate(os.listdir(documents_path)):\n",
    "    if filename.endswith(\".json\"):  # Sprawdzenie, czy plik ma rozszerzenie .json\n",
    "        file_path = os.path.join(documents_path, filename)\n",
    "        \n",
    "        # Otwórz plik JSON i załaduj dane\n",
    "        with open(file_path, \"r\", encoding=\"utf-8\") as file:\n",
    "            book_content = json.load(file)\n",
    "\n",
    "        # Dodaj każdą stronę oddzielnie\n",
    "        for page in book_content.values():\n",
    "            # Zamieniamy stronę na akapity, w domyśle zakładamy że najmniejszą jednostką znaczeniową jest akapit.\n",
    "            paragraphs = split_into_paragraphs(page)\n",
    "\n",
    "            for j, paragraph in enumerate(paragraphs):\n",
    "                documents.append(paragraph)\n",
    "\n",
    "        # Połącz zawartość wszystkich stron w jedną zmienną tekstową\n",
    "        #full_text = \" \".join(book_content.values())\n",
    "        # Dodaj pełny tekst książki do listy documents\n",
    "        #documents.append(full_text)"
   ]
  },
  {
   "cell_type": "code",
   "execution_count": 19,
   "id": "e895df2b-23a5-42c7-a06e-24fbf0920475",
   "metadata": {},
   "outputs": [
    {
     "name": "stdout",
     "output_type": "stream",
     "text": [
      "2591\n"
     ]
    }
   ],
   "source": [
    "print(len(documents))"
   ]
  },
  {
   "cell_type": "markdown",
   "id": "6ff526a6-6e83-4bc0-950c-35f2f8cda7ae",
   "metadata": {},
   "source": [
    "# RAG - łączenie dokumentów"
   ]
  },
  {
   "cell_type": "code",
   "execution_count": 8,
   "id": "7ce52d67-47d5-4227-800d-e505e82ab879",
   "metadata": {},
   "outputs": [],
   "source": [
    "# Funkcja do wyszukiwania dokumentów w zbiorze\n",
    "def retrieve_relevant_documents(query, documents):\n",
    "    response = co.rerank(\n",
    "        model='rerank-english-v3.0',\n",
    "        query=query,\n",
    "        documents=documents,\n",
    "        top_n=5  # Liczba dokumentów do zwrócenia\n",
    "    )\n",
    "    return response\n",
    "\n",
    "# Funkcja do generowania odpowiedzi\n",
    "def generate_response(query, prompt):\n",
    "    response = co.generate(\n",
    "        model=\"command\",  #-xlarge-nightly\",  # Model generowania Cohere\n",
    "        prompt=prompt,\n",
    "        max_tokens=100,  # Maksymalna długość odpowiedzi\n",
    "        temperature=0.7  # Stopień kreatywności odpowiedzi\n",
    "    )\n",
    "    return response.generations[0].text.strip()\n"
   ]
  },
  {
   "cell_type": "code",
   "execution_count": 25,
   "id": "bed99091-477b-43ed-b3a2-fea4f42b3ecc",
   "metadata": {},
   "outputs": [],
   "source": [
    "# Bierzemy dokumenty z minimalną trafnością:\n",
    "minimum_relevance = 0.5\n",
    "\n",
    "# Bierzemy maksymalnie w rachubę:\n",
    "maximum_documents = 3\n",
    "\n",
    "# Przykład zapytania użytkownika\n",
    "query = \"What is a low bar squat?\""
   ]
  },
  {
   "cell_type": "code",
   "execution_count": 26,
   "id": "6e6f31a8-0c6e-48d2-8dee-71785bd9cd09",
   "metadata": {},
   "outputs": [],
   "source": [
    "# Analiza wyników z indexami\n",
    "def analyze_rerank_results(response, documents):\n",
    "    results = response.results  # Lista wyników\n",
    "    relevant_docs = []\n",
    "\n",
    "    for result in results:\n",
    "        index = result.index  # Indeks w liście `documents`\n",
    "        relevance_score = result.relevance_score  # Ocena trafności\n",
    "\n",
    "        # Pobranie dokumentu na podstawie indeksu\n",
    "        document_content = documents[index] if index is not None and index < len(documents) else None\n",
    "\n",
    "        relevant_docs.append({\n",
    "            \"index\": index,\n",
    "            \"relevance_score\": relevance_score,\n",
    "            \"document\": document_content  # Treść dokumentu\n",
    "        })\n",
    "\n",
    "    return relevant_docs"
   ]
  },
  {
   "cell_type": "code",
   "execution_count": 27,
   "id": "3d686284-af28-4330-814a-87a430d3624d",
   "metadata": {},
   "outputs": [],
   "source": [
    "# Krok 1: Znalezienie najbardziej adekwatnego dokumentu\n",
    "retrieval_result = retrieve_relevant_documents(query, documents)\n"
   ]
  },
  {
   "cell_type": "code",
   "execution_count": 28,
   "id": "efc481c6-30c7-4ac1-9af3-e227fdea0f3f",
   "metadata": {
    "scrolled": true
   },
   "outputs": [
    {
     "name": "stdout",
     "output_type": "stream",
     "text": [
      "Indeks: 1812, Trafność: 0.99657035: \n",
      " Dokument: low-bar position, with the weight sitting just below  the  spine of the scapula,  is  the  same as the mechanics of \n",
      "the  position in which the bar is pulled off of the floor.  As  the  discussions of pulling mechanics in  the \n",
      "deadlift and power clean chapters have  illustrated,  the  shoulder blades  are  directly above  the bar when  it \n",
      "leaves the floor, and they stay there until  the  back changes position when the bar rises above the knees. \n",
      "(This is true for both the clean and the snatch,  with  the  snatch being done  from  a position even less similar to \n",
      "the  Olympic squat than the clean.)  Low-bar squats done utilizing this same relative position will train  the \n",
      "movement partem more directly  than  the  high-bar version, which places the back at  a higher angle due  to the \n",
      "higher position of the bar on  the  traps,  and  the  scapulas  behind the position  they  are  in  during  a  pull.  And \n",
      "they do it through a nice, long range of motion due to the fact that the squat goes deeper than the start \n",
      "position of either the snatch  or the  clean  and jerk. \n",
      "\n",
      "Indeks: 1810, Trafność: 0.9698426: \n",
      " Dokument: decades.  This seems to be largely a matter of tradition and inertia,  since there are compelling reasons  for \n",
      "using the low-bar position for weightlifters too.  Since  the  squat  is not a contested lift  in weightlifting, and \n",
      "since Olympic lifters front squat to directly reinforce the squat clean anyway, the reasons for doing  it in \n",
      "training for weightlifters  must involve  other considerations.  The  squat makes you  strong,  and  weightlifting \n",
      "is a strength sport; even if it is terribly dependent on technique, the winner is still the one that lifts the most \n",
      "weight.  The high-bar position may be harder, but  the  low-bar position  is easier on the  lower back,  uses more \n",
      "muscle, allows  more weight to be lifted, and  consequently prepares  the  lifter  for heavier weights. \n",
      "\n",
      "Indeks: 1815, Trafność: 0.96814114: \n",
      " Dokument: The progression from the high-bar \"Olympic\" squat  through  the  low-bar position advocated here, the clean-\n",
      "pull start position, and the snatch start position.  There are more similarities between  the low-bar squat and \n",
      "the  pulls in back angle, knee angle, hip angle, and scapular position. \n",
      "\n",
      "Indeks: 1814, Trafność: 0.9639839: \n",
      " Dokument: spine is essentially the same: the load transfers from the spine to the bar at the level of the scapula. Both also \n",
      "share the essential requirement of the maintenance of the correct  back  angle  off the  floor.  Neither  the  squat \n",
      "nor the pull will tolerate either bending over or rounding of the back  during their initial phase,  and  the  chest \n",
      "must be kept up during both movements.  If the back angle  is  kept  constant  for both,  which  it  must  be,  they \n",
      "are very  similar movements,  more similar  than  a  high-bar squat and a pull  of any  type.  If an  argument  is to \n",
      "be made  for squatting with a form specific  to  the  motor pathway requirements  of the sport,  the  low-back \n",
      "position would be that form. And if an argument is made that the squat need not be similar, the low-bar \n",
      "squat still makes more sense, because it is easier on the back and can be done with heavier weights. \n",
      "\n",
      "Indeks: 1813, Trafność: 0.89533985: \n",
      " Dokument: For both the low-bar squat and the pull  from  the  floor,  the  relationship between the  load and the \n",
      "\n"
     ]
    }
   ],
   "source": [
    "relevant_docs = analyze_rerank_results(retrieval_result, documents)\n",
    "\n",
    "# Wyświetlenie wyników\n",
    "for doc in relevant_docs:\n",
    "    print(f\"Indeks: {doc['index']}, Trafność: {doc['relevance_score']}: \\n Dokument: {doc['document']} \\n\")"
   ]
  },
  {
   "cell_type": "code",
   "execution_count": 31,
   "id": "af429b11-b367-40ad-90b6-92d55300cdfd",
   "metadata": {},
   "outputs": [],
   "source": [
    "# Bierzemy maksymalnie w rachubę:\n",
    "maximum_documents = 3\n",
    "filtered_docs = [doc for doc in relevant_docs if doc[\"relevance_score\"] > minimum_relevance]\n",
    "\n",
    "if(len(filtered_docs) >= maximum_documents):\n",
    "    filtered_docs = filtered_docs[:maximum_documents]"
   ]
  },
  {
   "cell_type": "code",
   "execution_count": 37,
   "id": "5229709f-1bb6-4a2a-8525-4b6fcd945903",
   "metadata": {},
   "outputs": [
    {
     "name": "stdout",
     "output_type": "stream",
     "text": [
      "Pytanie użytkownika: What is a low bar squat?\n",
      "Odpowiedź: A low bar squat is a variation of the squat exercise, one of the most fundamental strength training exercises. \n",
      "\n",
      "Unlike a high bar squat, where the bar rests on the trapezius muscles, in a low bar squat, the bar is positioned lower down the back, often resting slightly above the rear deltoids. \n",
      "\n",
      "Low bar squats tend to emphasize the quadriceps muscles to a greater degree than high bar squats, and are often favored by strength athletes such as powerlif\n"
     ]
    }
   ],
   "source": [
    "# Krok 2: Wygenerowanie odpowiedzi lub fallback\n",
    "if len(filtered_docs) > 0:\n",
    "\n",
    "    # Połaczenie wszystkich wyników\n",
    "    context = \" \".join([doc[\"document\"] for doc in filtered_docs])\n",
    "\n",
    "    # Tworzenie promptu z zapytania i znalezionego kontekstu\n",
    "    prompt = f\"User question: {query}\\n Context: {context}\\n Answer:\"\n",
    "\n",
    "    response = generate_response(query, most_relevant_document)\n",
    "else:\n",
    "    response = \"Przepraszam, nie znalazłem odpowiedniego dokumentu, ale mogę spróbować odpowiedzieć ogólnie.\"\n",
    "\n",
    "# Wyświetlenie wyniku\n",
    "print(\"Pytanie użytkownika:\", query)\n",
    "print(\"Odpowiedź:\", response)"
   ]
  },
  {
   "cell_type": "markdown",
   "id": "e9f37757-12e9-4a45-a4cd-42bab53ef7ad",
   "metadata": {},
   "source": [
    "# Embeding model"
   ]
  },
  {
   "cell_type": "code",
   "execution_count": 42,
   "id": "d2e7a837-af02-45ec-97cb-66162306557e",
   "metadata": {},
   "outputs": [],
   "source": [
    "# Krojenie dokumentów\n",
    "documents_shortend = documents[1:100]\n",
    "\n",
    "# Tworzenie embeddingów dokumentów\n",
    "embeddings = co.embed(\n",
    "    model=\"embed-english-v3.0\",\n",
    "    texts=documents_shortend,\n",
    "    input_type=\"search_document\"  \n",
    ").embeddings"
   ]
  },
  {
   "cell_type": "code",
   "execution_count": 43,
   "id": "36e8c738-9715-41df-b858-47b384c2739d",
   "metadata": {},
   "outputs": [],
   "source": [
    "import numpy as np\n",
    "\n",
    "# Funkcja obliczania podobieństwa kosinusowego\n",
    "def cosine_similarity(vec1, vec2):\n",
    "    return np.dot(vec1, vec2) / (np.linalg.norm(vec1) * np.linalg.norm(vec2))\n",
    "\n",
    "# Wyszukiwanie najbliższego dokumentu\n",
    "def search(query, documents, embeddings):\n",
    "    # Generowanie embeddingu dla zapytania\n",
    "    query_embedding = co.embed(\n",
    "        texts=[query],\n",
    "        model=\"embed-english-v3.0\",\n",
    "        input_type=\"search_query\"\n",
    "    ).embeddings[0]\n",
    "    \n",
    "    # Obliczanie podobieństw\n",
    "    similarities = [cosine_similarity(query_embedding, doc_emb) for doc_emb in embeddings]\n",
    "    best_match_index = np.argmax(similarities)\n",
    "    return documents[best_match_index], similarities[best_match_index]"
   ]
  },
  {
   "cell_type": "code",
   "execution_count": 46,
   "id": "1178be9f-8b7e-4b14-b534-8d13da107451",
   "metadata": {},
   "outputs": [],
   "source": [
    "def generate_answer(query):\n",
    "    # Wyszukiwanie kontekstu\n",
    "    context, similarity = search(query, documents, embeddings)\n",
    "\n",
    "    print(\"context\", context)\n",
    "    # Generowanie odpowiedzi na podstawie kontekstu\n",
    "    prompt = f\"Question: {query}\\n Context: {context}\\n Answer:\"\n",
    "    response = co.generate(\n",
    "        model=\"command-xlarge-nightly\",\n",
    "        prompt=prompt,\n",
    "        max_tokens=200,\n",
    "        temperature=0.7\n",
    "    )\n",
    "    return response.generations[0].text.strip()\n",
    "\n"
   ]
  },
  {
   "cell_type": "code",
   "execution_count": 47,
   "id": "fbd03ee6-136c-4bbb-8c71-e0c5d057b9c0",
   "metadata": {
    "scrolled": true
   },
   "outputs": [
    {
     "name": "stdout",
     "output_type": "stream",
     "text": [
      "context Learning  to  squat\n",
      "Odpowiedź: The low-bar squat is a variant of the back squat where the bar is held lower down on the back. This technique places greater emphasis on the hip muscles, such as the adductors and glutes, and reduces the involvement of the quadriceps.\n"
     ]
    }
   ],
   "source": [
    "# Testowanie\n",
    "query = \"What is low bar squat?\"\n",
    "answer = generate_answer(query)\n",
    "print(\"Odpowiedź:\", answer)"
   ]
  },
  {
   "cell_type": "code",
   "execution_count": null,
   "id": "bed3658f-83a3-4760-9626-aa3194cd0995",
   "metadata": {},
   "outputs": [],
   "source": []
  },
  {
   "cell_type": "code",
   "execution_count": null,
   "id": "74ff18c4-4223-4a9f-8b48-a91e86b9d981",
   "metadata": {},
   "outputs": [],
   "source": []
  }
 ],
 "metadata": {
  "kernelspec": {
   "display_name": "Python 3 (ipykernel)",
   "language": "python",
   "name": "python3"
  },
  "language_info": {
   "codemirror_mode": {
    "name": "ipython",
    "version": 3
   },
   "file_extension": ".py",
   "mimetype": "text/x-python",
   "name": "python",
   "nbconvert_exporter": "python",
   "pygments_lexer": "ipython3",
   "version": "3.12.6"
  }
 },
 "nbformat": 4,
 "nbformat_minor": 5
}
