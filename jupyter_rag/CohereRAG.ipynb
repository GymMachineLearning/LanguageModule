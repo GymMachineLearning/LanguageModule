{
 "cells": [
  {
   "cell_type": "code",
   "execution_count": 1,
   "id": "edcbc728-e0b3-4031-a8d7-a01412e92d4e",
   "metadata": {},
   "outputs": [
    {
     "name": "stdout",
     "output_type": "stream",
     "text": [
      "C:\\Users\\kubak\\Desktop\\engineer-project\\github\\LanguageModule\n"
     ]
    },
    {
     "name": "stderr",
     "output_type": "stream",
     "text": [
      "C:\\Users\\kubak\\AppData\\Local\\Programs\\Python\\Python312\\Lib\\site-packages\\IPython\\core\\magics\\osm.py:417: UserWarning: This is now an optional IPython functionality, setting dhist requires you to install the `pickleshare` library.\n",
      "  self.shell.db['dhist'] = compress_dhist(dhist)[-100:]\n"
     ]
    }
   ],
   "source": [
    "%cd .."
   ]
  },
  {
   "cell_type": "code",
   "execution_count": 2,
   "id": "93d4f257-320c-4125-9055-709e0ceb7b85",
   "metadata": {},
   "outputs": [],
   "source": [
    "import cohere\n",
    "import os\n",
    "import json"
   ]
  },
  {
   "cell_type": "markdown",
   "id": "b5d20f8a-a141-4294-b9a8-2bd5cc33bdd8",
   "metadata": {},
   "source": [
    "# Łączenie się z api cohere"
   ]
  },
  {
   "cell_type": "code",
   "execution_count": 3,
   "id": "c904bf25-20b1-40e5-8fdf-50bb895bcbcd",
   "metadata": {},
   "outputs": [],
   "source": [
    "# Inicjalizacja klienta Cohere\n",
    "# https://cohere.com/\n",
    "# https://docs.cohere.com/reference/embed\n",
    "\n",
    "with open('./api.txt', 'r', encoding='utf-8') as file:\n",
    "    for line in file:\n",
    "        if 'cohere:' in line:\n",
    "            # Wyciągamy tekst po \"cohere:\"\n",
    "            key_api = line.split('cohere:')[1].strip()\n",
    "            \n",
    "co = cohere.Client(key_api)"
   ]
  },
  {
   "cell_type": "markdown",
   "id": "489d4b78-289e-4fe2-aa6d-354ce08df0cb",
   "metadata": {},
   "source": [
    "# Pobieranie dokumentów"
   ]
  },
  {
   "cell_type": "code",
   "execution_count": 4,
   "id": "a17cb39b-1c7f-4d6e-905f-2830f4962659",
   "metadata": {},
   "outputs": [],
   "source": [
    "documents_path =  f\"./data/decoded_pdfs/\""
   ]
  },
  {
   "cell_type": "code",
   "execution_count": 5,
   "id": "58d57e99-4f12-4e57-b470-c1cd7d6dd05d",
   "metadata": {},
   "outputs": [],
   "source": [
    "def split_into_paragraphs(text):\n",
    "    # Split the text into paragraphs by empty lines\n",
    "    paragraphs = [paragraph.strip() for paragraph in text.split('\\n\\n') if paragraph.strip()]\n",
    "    return paragraphs"
   ]
  },
  {
   "cell_type": "code",
   "execution_count": 6,
   "id": "9007e90e-2f5a-4f4f-86c9-9f1ff1ba3ad0",
   "metadata": {
    "scrolled": true
   },
   "outputs": [],
   "source": [
    "# Lista do przechowywania zawartości książek\n",
    "documents = []\n",
    "\n",
    "# Iteracja przez wszystkie pliki w folderze\n",
    "for i, filename in enumerate(os.listdir(documents_path)):\n",
    "    if filename.endswith(\".json\"):  # Sprawdzenie, czy plik ma rozszerzenie .json\n",
    "        file_path = os.path.join(documents_path, filename)\n",
    "        \n",
    "        # Otwórz plik JSON i załaduj dane\n",
    "        with open(file_path, \"r\", encoding=\"utf-8\") as file:\n",
    "            book_content = json.load(file)\n",
    "\n",
    "        # Dodaj każdą stronę oddzielnie\n",
    "        for page in book_content.values():\n",
    "            # Zamieniamy stronę na akapity, w domyśle zakładamy że najmniejszą jednostką znaczeniową jest akapit.\n",
    "            paragraphs = split_into_paragraphs(page)\n",
    "\n",
    "            for j, paragraph in enumerate(paragraphs):\n",
    "                documents.append(paragraph)\n",
    "\n",
    "        # Połącz zawartość wszystkich stron w jedną zmienną tekstową\n",
    "        #full_text = \" \".join(book_content.values())\n",
    "        # Dodaj pełny tekst książki do listy documents\n",
    "        #documents.append(full_text)"
   ]
  },
  {
   "cell_type": "code",
   "execution_count": 7,
   "id": "e895df2b-23a5-42c7-a06e-24fbf0920475",
   "metadata": {},
   "outputs": [
    {
     "name": "stdout",
     "output_type": "stream",
     "text": [
      "8732\n"
     ]
    }
   ],
   "source": [
    "print(len(documents))"
   ]
  },
  {
   "cell_type": "markdown",
   "id": "6ff526a6-6e83-4bc0-950c-35f2f8cda7ae",
   "metadata": {},
   "source": [
    "# RAG - łączenie dokumentów"
   ]
  },
  {
   "cell_type": "code",
   "execution_count": 8,
   "id": "7ce52d67-47d5-4227-800d-e505e82ab879",
   "metadata": {},
   "outputs": [],
   "source": [
    "# Funkcja do wyszukiwania dokumentów w zbiorze\n",
    "def retrieve_relevant_documents(query, documents):\n",
    "    response = co.rerank(\n",
    "        model='rerank-english-v3.0',\n",
    "        query=query,\n",
    "        documents=documents,\n",
    "        top_n=5  # Liczba dokumentów do zwrócenia\n",
    "    )\n",
    "    return response\n",
    "\n",
    "# Funkcja do generowania odpowiedzi\n",
    "def generate_response(query, prompt):\n",
    "    response = co.generate(\n",
    "        model=\"command\",  #-xlarge-nightly\",  # Model generowania Cohere\n",
    "        prompt=prompt,\n",
    "        max_tokens=100,  # Maksymalna długość odpowiedzi\n",
    "        temperature=0.7  # Stopień kreatywności odpowiedzi\n",
    "    )\n",
    "    return response.generations[0].text.strip()"
   ]
  },
  {
   "cell_type": "code",
   "execution_count": 9,
   "id": "bed99091-477b-43ed-b3a2-fea4f42b3ecc",
   "metadata": {},
   "outputs": [],
   "source": [
    "# Bierzemy dokumenty z minimalną trafnością:\n",
    "minimum_relevance = 0.5\n",
    "\n",
    "# Bierzemy maksymalnie w rachubę:\n",
    "maximum_documents = 3\n",
    "\n",
    "# Przykład zapytania użytkownika\n",
    "query = \"I have bad squat depth.\""
   ]
  },
  {
   "cell_type": "code",
   "execution_count": 10,
   "id": "6e6f31a8-0c6e-48d2-8dee-71785bd9cd09",
   "metadata": {},
   "outputs": [],
   "source": [
    "# Analiza wyników z indexami\n",
    "def analyze_rerank_results(response, documents):\n",
    "    results = response.results  # Lista wyników\n",
    "    relevant_docs = []\n",
    "\n",
    "    for result in results:\n",
    "        index = result.index  # Indeks w liście `documents`\n",
    "        relevance_score = result.relevance_score  # Ocena trafności\n",
    "\n",
    "        # Pobranie dokumentu na podstawie indeksu\n",
    "        document_content = documents[index] if index is not None and index < len(documents) else None\n",
    "\n",
    "        relevant_docs.append({\n",
    "            \"index\": index,\n",
    "            \"relevance_score\": relevance_score,\n",
    "            \"document\": document_content  # Treść dokumentu\n",
    "        })\n",
    "\n",
    "    return relevant_docs"
   ]
  },
  {
   "cell_type": "code",
   "execution_count": 11,
   "id": "3d686284-af28-4330-814a-87a430d3624d",
   "metadata": {},
   "outputs": [],
   "source": [
    "# Krok 1: Znalezienie najbardziej adekwatnego dokumentu\n",
    "retrieval_result = retrieve_relevant_documents(query, documents)\n"
   ]
  },
  {
   "cell_type": "code",
   "execution_count": 12,
   "id": "efc481c6-30c7-4ac1-9af3-e227fdea0f3f",
   "metadata": {
    "scrolled": true
   },
   "outputs": [
    {
     "name": "stdout",
     "output_type": "stream",
     "text": [
      "Indeks: 6182, Trafność: 0.78282857: \n",
      " Dokument: Squat  depth \n",
      "\n",
      "Indeks: 6398, Trafność: 0.46863863: \n",
      " Dokument: what  you  do  with  the  hamstrings,  along  with  the  glutes  and  adductors.  The  drive  out  of  the \n",
      "bottom  is  hip  extension,  and  the  more  efficiently  you  use  hamstrings,  adductors,  and  glutes,  the \n",
      "more  hip drive  you  have.  This  is  another  reason  why good  depth  is  important:  the  deeper you  can \n",
      "squat  with  good  form,  the  more  the  hamstrings  are  stretched,  and  the  longer  they  are  when  they \n",
      "begin  to  contract  the  longer  they  can  produce  force  during  the  contraction. \n",
      "\n",
      "Indeks: 6232, Trafność: 0.38624245: \n",
      " Dokument: A word  now about  knee  position  and  adductor, or  \"groin\"  muscle  function.  This  method \n",
      "utilizes  a  stance  that  requires  a  knees-out  position,  both  at  the  bottom  and  on  the  way  down. \n",
      "Knees-out  does  two  important  things  for  the  squat:  it  allows  for  easier  depth,  and  it  adds  the \n",
      "adductors  to  the  movement.  As  for  depth,  the  aforementioned  jamming  effect  of  the  thighs \n",
      "against  the  belly  affects  most  people,  regardless  of  the  degree  of  chubbiness.  The  tendency  to \n",
      "scop  the  descent  of  the  hips  when  the  belly  contacts  the  thighs  is  almost  universal,  as  is  the \n",
      "tendency to  round  the  lower  back  when  this  happens.  This,  in  combination  with  the  fact  that if \n",
      "the toes point forward, as is usual  with  a  narrow stance, the knees will go  forward too, makes good \n",
      "depth  hard  to  reach.  The  knees  can  travel  forward  until  they  literally  touch  the  floor,  and  the hip \n",
      "will  not  drop  below  the  patella  (fig.  2-10).  Your  knees  should  go  to  a  point  just  in  front  of your \n",
      "toes,  and  this  position will vary  with  your  anthropometry  (a fancy way of saying individual physical \n",
      "dimensions).  If  your  knees  stop  too  far  back  behind  your  toes,  you  have  to  lean  too  far  forward  to \n",
      "stay in  balance.  Knees  too  far  forward  produces  too  acute  a  knee angle, throwing your weight on \n",
      "your  toes and  making hip drive out  of the  bottom  inefficient by  loosening the  hamstrings. \n",
      "\n",
      "Indeks: 6219, Trafność: 0.3002324: \n",
      " Dokument: Stay  in  the bottom  position  for  a  few  seconds,  to allow for  some  stretching.  If you get \n",
      "fatigued  by holding the  position, it might indicate that your flexibility is  not quite what it should \n",
      "be.  Stand up and rest a few seconds and go back down to get some more stretching done and to \n",
      "reinforce your familiarity with the bottom position. This is the most important part of learning \n",
      "to squat correctly, since good depth is the difference between a squat and a partial squat. \n",
      "\n",
      "Indeks: 6519, Trafność: 0.20721471: \n",
      " Dokument: The  practice  of placing  a  block  or  a  2x4  under  the  heels  is  common.  Most  gyms  keep  one \n",
      "lying  around  somewhere.  T h e  purpose  of this  is  to  make  the  full  squat  position  easier  to  reach, \n",
      "and  an  understanding  of the  reason  this  works  is  necessary  to  the  understanding  of why  it  should \n",
      "not  be  done.  A  block  under  the  heels  tilts  the  shins  forward  by  lifting  the  ankle  up  a  little  and \n",
      "allowing  the  knee  to  move  forward  without  stretching the  ankle  joint.  This  shin  angle  causes  the \n",
      "attachment  point  of the  hamstrings  on  the  back  of the  tibia  to  move  back  closer  to  their  origin  on \n",
      "the  pelvis,  unstretching  the  muscle  a  little  and  thus  decreasing  the  amount  of stretch  necessary  to \n",
      "get  to  full  depth.  If you  are  having  flexibility  problems  severe  enough  to  need  a  block  under  your \n",
      "heels  to  squat  deep,  you will  not  benefit  by  being  prevented  from  stretching  those  muscles  that  are \n",
      "too  tight.  The  squat,  being  a  full  range  of motion  exercise,  provides  an  even  better  stretch  than \n",
      "most  stretches  do.  It is  far  better  to  approach  full  squat  depth  a  little  at  a  time  each  workout,  with \n",
      "an  exercise  that will  very  quickly  stretch  you  out,  than  to  use  an  artificial  aid  that will  prevent  you \n",
      "from  obtaining enough  stretch  to  ever  fix  the  problem. \n",
      "\n"
     ]
    }
   ],
   "source": [
    "relevant_docs = analyze_rerank_results(retrieval_result, documents)\n",
    "\n",
    "# Wyświetlenie wyników\n",
    "for doc in relevant_docs:\n",
    "    print(f\"Indeks: {doc['index']}, Trafność: {doc['relevance_score']}: \\n Dokument: {doc['document']} \\n\")"
   ]
  },
  {
   "cell_type": "code",
   "execution_count": 13,
   "id": "af429b11-b367-40ad-90b6-92d55300cdfd",
   "metadata": {},
   "outputs": [],
   "source": [
    "# Bierzemy maksymalnie w rachubę:\n",
    "maximum_documents = 3\n",
    "filtered_docs = [doc for doc in relevant_docs if doc[\"relevance_score\"] > minimum_relevance]\n",
    "\n",
    "if(len(filtered_docs) >= maximum_documents):\n",
    "    filtered_docs = filtered_docs[:maximum_documents]"
   ]
  },
  {
   "cell_type": "code",
   "execution_count": 14,
   "id": "5229709f-1bb6-4a2a-8525-4b6fcd945903",
   "metadata": {},
   "outputs": [
    {
     "name": "stdout",
     "output_type": "stream",
     "text": [
      "Pytanie użytkownika: I have bad squat depth.\n",
      "Odpowiedź: There are a few reasons your squat depth may be lacking. Firstly, flexibility and mobility are important factors in achieving deeper squat positions. Tight muscles, such as the hamstrings and quadriceps, can restrict your ability to fully descend into a squat. Stretching and foam rolling these muscles can help improve your flexibility and allow for a deeper squat. \n",
      "\n",
      "Additionally, weaknesses in certain muscles can also affect your squat depth. A weak or underactive gluteus maximus, medius, and\n"
     ]
    }
   ],
   "source": [
    "# Krok 2: Wygenerowanie odpowiedzi lub fallback\n",
    "if len(filtered_docs) > 0:\n",
    "    # Połaczenie wszystkich wyników\n",
    "    context = \" \".join([doc[\"document\"] for doc in filtered_docs])\n",
    "\n",
    "    # Tworzenie promptu z zapytania i znalezionego kontekstu\n",
    "    prompt = f\"User question: {query}\\n Context: {context}\\n Answer:\"\n",
    "\n",
    "    response = generate_response(query, prompt)\n",
    "else:\n",
    "    response = \"Przepraszam, nie znalazłem odpowiedniego dokumentu, ale mogę spróbować odpowiedzieć ogólnie.\"\n",
    "\n",
    "# Wyświetlenie wyniku\n",
    "print(\"Pytanie użytkownika:\", query)\n",
    "print(\"Odpowiedź:\", response)"
   ]
  },
  {
   "cell_type": "markdown",
   "id": "e9f37757-12e9-4a45-a4cd-42bab53ef7ad",
   "metadata": {},
   "source": [
    "# Embeding model"
   ]
  },
  {
   "cell_type": "code",
   "execution_count": 15,
   "id": "d2e7a837-af02-45ec-97cb-66162306557e",
   "metadata": {},
   "outputs": [],
   "source": [
    "# Krojenie dokumentów\n",
    "documents_shortend = documents[1:100]\n",
    "\n",
    "# Tworzenie embeddingów dokumentów\n",
    "embeddings = co.embed(\n",
    "    model=\"embed-english-v3.0\",\n",
    "    texts=documents_shortend,\n",
    "    input_type=\"search_document\"  \n",
    ").embeddings"
   ]
  },
  {
   "cell_type": "code",
   "execution_count": 16,
   "id": "36e8c738-9715-41df-b858-47b384c2739d",
   "metadata": {},
   "outputs": [],
   "source": [
    "import numpy as np\n",
    "\n",
    "# Funkcja obliczania podobieństwa kosinusowego\n",
    "def cosine_similarity(vec1, vec2):\n",
    "    return np.dot(vec1, vec2) / (np.linalg.norm(vec1) * np.linalg.norm(vec2))\n",
    "\n",
    "# Wyszukiwanie najbliższego dokumentu\n",
    "def search(query, documents, embeddings):\n",
    "    # Generowanie embeddingu dla zapytania\n",
    "    query_embedding = co.embed(\n",
    "        texts=[query],\n",
    "        model=\"embed-english-v3.0\",\n",
    "        input_type=\"search_query\"\n",
    "    ).embeddings[0]\n",
    "    \n",
    "    # Obliczanie podobieństw\n",
    "    similarities = [cosine_similarity(query_embedding, doc_emb) for doc_emb in embeddings]\n",
    "    best_match_index = np.argmax(similarities)\n",
    "    return documents[best_match_index], similarities[best_match_index]"
   ]
  },
  {
   "cell_type": "code",
   "execution_count": 17,
   "id": "1178be9f-8b7e-4b14-b534-8d13da107451",
   "metadata": {},
   "outputs": [],
   "source": [
    "def generate_answer(query):\n",
    "    # Wyszukiwanie kontekstu\n",
    "    context, similarity = search(query, documents, embeddings)\n",
    "\n",
    "    print(\"context\", context)\n",
    "    # Generowanie odpowiedzi na podstawie kontekstu\n",
    "    prompt = f\"Question: {query}\\n Context: {context}\\n Answer:\"\n",
    "    response = co.generate(\n",
    "        model=\"command-xlarge-nightly\",\n",
    "        prompt=prompt,\n",
    "        max_tokens=200,\n",
    "        temperature=0.7\n",
    "    )\n",
    "    return response.generations[0].text.strip()\n"
   ]
  },
  {
   "cell_type": "code",
   "execution_count": 18,
   "id": "fbd03ee6-136c-4bbb-8c71-e0c5d057b9c0",
   "metadata": {
    "scrolled": true
   },
   "outputs": [
    {
     "name": "stdout",
     "output_type": "stream",
     "text": [
      "context Introduction\n",
      "2\n",
      "Odpowiedź: The low-bar squat is a weight training exercise that heavily involves the posterior chain (the lower back, glutes and hamstrings) and to a lesser degree the quadriceps.\n"
     ]
    }
   ],
   "source": [
    "# Testowanie\n",
    "query = \"What is low bar squat?\"\n",
    "answer = generate_answer(query)\n",
    "print(\"Odpowiedź:\", answer)"
   ]
  },
  {
   "cell_type": "code",
   "execution_count": null,
   "id": "22f374c2-7ec6-4e13-b211-3a92c3d09423",
   "metadata": {},
   "outputs": [],
   "source": []
  }
 ],
 "metadata": {
  "kernelspec": {
   "display_name": "Python 3 (ipykernel)",
   "language": "python",
   "name": "python3"
  },
  "language_info": {
   "codemirror_mode": {
    "name": "ipython",
    "version": 3
   },
   "file_extension": ".py",
   "mimetype": "text/x-python",
   "name": "python",
   "nbconvert_exporter": "python",
   "pygments_lexer": "ipython3",
   "version": "3.12.6"
  }
 },
 "nbformat": 4,
 "nbformat_minor": 5
}
