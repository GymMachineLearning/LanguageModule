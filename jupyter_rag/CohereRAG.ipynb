{
 "cells": [
  {
   "cell_type": "code",
   "execution_count": 1,
   "id": "edcbc728-e0b3-4031-a8d7-a01412e92d4e",
   "metadata": {},
   "outputs": [
    {
     "name": "stdout",
     "output_type": "stream",
     "text": [
      "C:\\Users\\kubak\\Desktop\\engineer-project\\github\\LanguageModule\n"
     ]
    },
    {
     "name": "stderr",
     "output_type": "stream",
     "text": [
      "C:\\Users\\kubak\\AppData\\Local\\Programs\\Python\\Python312\\Lib\\site-packages\\IPython\\core\\magics\\osm.py:417: UserWarning: This is now an optional IPython functionality, setting dhist requires you to install the `pickleshare` library.\n",
      "  self.shell.db['dhist'] = compress_dhist(dhist)[-100:]\n"
     ]
    }
   ],
   "source": [
    "%cd .."
   ]
  },
  {
   "cell_type": "code",
   "execution_count": 2,
   "id": "93d4f257-320c-4125-9055-709e0ceb7b85",
   "metadata": {},
   "outputs": [],
   "source": [
    "import cohere\n",
    "import os\n",
    "import json"
   ]
  },
  {
   "cell_type": "markdown",
   "id": "b5d20f8a-a141-4294-b9a8-2bd5cc33bdd8",
   "metadata": {},
   "source": [
    "# Łączenie się z api cohere"
   ]
  },
  {
   "cell_type": "code",
   "execution_count": 3,
   "id": "c904bf25-20b1-40e5-8fdf-50bb895bcbcd",
   "metadata": {},
   "outputs": [],
   "source": [
    "# Inicjalizacja klienta Cohere\n",
    "# https://cohere.com/\n",
    "# https://docs.cohere.com/reference/embed\n",
    "\n",
    "with open('./api.txt', 'r', encoding='utf-8') as file:\n",
    "    for line in file:\n",
    "        if 'cohere:' in line:\n",
    "            # Wyciągamy tekst po \"cohere:\"\n",
    "            key_api = line.split('cohere:')[1].strip()\n",
    "            \n",
    "co = cohere.Client(key_api)"
   ]
  },
  {
   "cell_type": "markdown",
   "id": "489d4b78-289e-4fe2-aa6d-354ce08df0cb",
   "metadata": {},
   "source": [
    "# Pobieranie dokumentów"
   ]
  },
  {
   "cell_type": "code",
   "execution_count": 4,
   "id": "a17cb39b-1c7f-4d6e-905f-2830f4962659",
   "metadata": {},
   "outputs": [],
   "source": [
    "documents_path =  f\"./data/decoded_pdfs/\""
   ]
  },
  {
   "cell_type": "code",
   "execution_count": 5,
   "id": "9007e90e-2f5a-4f4f-86c9-9f1ff1ba3ad0",
   "metadata": {
    "scrolled": true
   },
   "outputs": [],
   "source": [
    "# Lista do przechowywania zawartości książek\n",
    "documents = []\n",
    "\n",
    "# Iteracja przez wszystkie pliki w folderze\n",
    "for i, filename in enumerate(os.listdir(documents_path)):\n",
    "    if filename.endswith(\".json\"):  # Sprawdzenie, czy plik ma rozszerzenie .json\n",
    "        file_path = os.path.join(documents_path, filename)\n",
    "        \n",
    "        # Otwórz plik JSON i załaduj dane\n",
    "        with open(file_path, \"r\", encoding=\"utf-8\") as file:\n",
    "            book_content = json.load(file)\n",
    "\n",
    "        # Dodaj każdą stronę oddzielnie\n",
    "        for page in book_content.values():\n",
    "            documents.append(page)\n",
    "\n",
    "        # Połącz zawartość wszystkich stron w jedną zmienną tekstową\n",
    "        #full_text = \" \".join(book_content.values())\n",
    "        # Dodaj pełny tekst książki do listy documents\n",
    "        #documents.append(full_text)"
   ]
  },
  {
   "cell_type": "markdown",
   "id": "6ff526a6-6e83-4bc0-950c-35f2f8cda7ae",
   "metadata": {},
   "source": [
    "# RAG - łączenie dokumentów"
   ]
  },
  {
   "cell_type": "code",
   "execution_count": 6,
   "id": "7ce52d67-47d5-4227-800d-e505e82ab879",
   "metadata": {},
   "outputs": [],
   "source": [
    "# Funkcja do wyszukiwania dokumentów w zbiorze\n",
    "def retrieve_relevant_documents(query, documents):\n",
    "    response = co.rerank(\n",
    "        model='rerank-english-v3.0',\n",
    "        query=query,\n",
    "        documents=documents,\n",
    "        top_n=5  # Liczba dokumentów do zwrócenia\n",
    "    )\n",
    "    return response\n",
    "\n",
    "# Funkcja do generowania odpowiedzi\n",
    "def generate_response(query, context):\n",
    "    response = co.generate(\n",
    "        model=\"command\",  #-xlarge-nightly\",  # Model generowania Cohere\n",
    "        prompt=f\"Użytkownik pyta: {query}\\n\"\n",
    "               f\"Kontekst: {context}\\n\"\n",
    "               f\"Odpowiedz:\",\n",
    "        max_tokens=100,  # Maksymalna długość odpowiedzi\n",
    "        temperature=0.7  # Stopień kreatywności odpowiedzi\n",
    "    )\n",
    "    return response.generations[0].text.strip()\n",
    "\n"
   ]
  },
  {
   "cell_type": "code",
   "execution_count": 7,
   "id": "bed99091-477b-43ed-b3a2-fea4f42b3ecc",
   "metadata": {},
   "outputs": [],
   "source": [
    "# Przykład zapytania użytkownika\n",
    "query = \"Can you explain why it's good to do a hip dominant squat?\"\n",
    "query = \"How to fix buttwink error?\""
   ]
  },
  {
   "cell_type": "code",
   "execution_count": 8,
   "id": "3d686284-af28-4330-814a-87a430d3624d",
   "metadata": {},
   "outputs": [
    {
     "name": "stdout",
     "output_type": "stream",
     "text": [
      "Najbardziej adekwatny dokument: None\n"
     ]
    }
   ],
   "source": [
    "# Krok 1: Znalezienie najbardziej adekwatnego dokumentu\n",
    "retrieval_result = retrieve_relevant_documents(query, documents)\n",
    "\n",
    "if retrieval_result.results:\n",
    "    most_relevant_document = retrieval_result.results[0].document\n",
    "    print(f\"Najbardziej adekwatny dokument: {most_relevant_document}\")\n",
    "else:\n",
    "    print(\"Brak trafnych wyników dla zapytania.\")\n",
    "    most_relevant_document = None"
   ]
  },
  {
   "cell_type": "code",
   "execution_count": 9,
   "id": "5229709f-1bb6-4a2a-8525-4b6fcd945903",
   "metadata": {},
   "outputs": [
    {
     "name": "stdout",
     "output_type": "stream",
     "text": [
      "Pytanie użytkownika: How to fix buttwink error?\n",
      "Odpowiedź: Przepraszam, nie znalazłem odpowiedniego dokumentu, ale mogę spróbować odpowiedzieć ogólnie.\n"
     ]
    }
   ],
   "source": [
    "# Krok 2: Wygenerowanie odpowiedzi lub fallback\n",
    "if most_relevant_document:\n",
    "    response = generate_response(query, most_relevant_document)\n",
    "else:\n",
    "    response = \"Przepraszam, nie znalazłem odpowiedniego dokumentu, ale mogę spróbować odpowiedzieć ogólnie.\"\n",
    "\n",
    "# Wyświetlenie wyniku\n",
    "print(\"Pytanie użytkownika:\", query)\n",
    "print(\"Odpowiedź:\", response)"
   ]
  },
  {
   "cell_type": "markdown",
   "id": "e9f37757-12e9-4a45-a4cd-42bab53ef7ad",
   "metadata": {},
   "source": [
    "# Embeding model"
   ]
  },
  {
   "cell_type": "code",
   "execution_count": 12,
   "id": "d2e7a837-af02-45ec-97cb-66162306557e",
   "metadata": {},
   "outputs": [],
   "source": [
    "# Krojenie dokumentów\n",
    "documents = documents[1:10]\n",
    "\n",
    "# Tworzenie embeddingów dokumentów\n",
    "embeddings = co.embed(\n",
    "    model=\"embed-english-v3.0\",\n",
    "    texts=documents,\n",
    "    input_type=\"search_document\"  \n",
    ").embeddings"
   ]
  },
  {
   "cell_type": "code",
   "execution_count": 13,
   "id": "36e8c738-9715-41df-b858-47b384c2739d",
   "metadata": {},
   "outputs": [],
   "source": [
    "import numpy as np\n",
    "\n",
    "# Funkcja obliczania podobieństwa kosinusowego\n",
    "def cosine_similarity(vec1, vec2):\n",
    "    return np.dot(vec1, vec2) / (np.linalg.norm(vec1) * np.linalg.norm(vec2))\n",
    "\n",
    "# Wyszukiwanie najbliższego dokumentu\n",
    "def search(query, documents, embeddings):\n",
    "    # Generowanie embeddingu dla zapytania\n",
    "    query_embedding = co.embed(\n",
    "        texts=[query],\n",
    "        model=\"embed-english-v3.0\",\n",
    "        input_type=\"search_query\"\n",
    "    ).embeddings[0]\n",
    "    \n",
    "    # Obliczanie podobieństw\n",
    "    similarities = [cosine_similarity(query_embedding, doc_emb) for doc_emb in embeddings]\n",
    "    best_match_index = np.argmax(similarities)\n",
    "    return documents[best_match_index], similarities[best_match_index]"
   ]
  },
  {
   "cell_type": "code",
   "execution_count": 17,
   "id": "1178be9f-8b7e-4b14-b534-8d13da107451",
   "metadata": {},
   "outputs": [],
   "source": [
    "def generate_answer(query):\n",
    "    # Wyszukiwanie kontekstu\n",
    "    context, similarity = search(query, documents, embeddings)\n",
    "\n",
    "    print(\"context\", context)\n",
    "    # Generowanie odpowiedzi na podstawie kontekstu\n",
    "    prompt = f\"Pytanie: {query}\\nKontekst: {context}\\nOdpowiedź:\"\n",
    "    response = co.generate(\n",
    "        model=\"command-xlarge-nightly\",\n",
    "        prompt=prompt,\n",
    "        max_tokens=50,\n",
    "        temperature=0.7\n",
    "    )\n",
    "    return response.generations[0].text.strip()\n",
    "\n"
   ]
  },
  {
   "cell_type": "code",
   "execution_count": 18,
   "id": "fbd03ee6-136c-4bbb-8c71-e0c5d057b9c0",
   "metadata": {},
   "outputs": [
    {
     "name": "stdout",
     "output_type": "stream",
     "text": [
      "context Basic  Barbell  Training \n",
      "\n",
      "The  squat has been  the most important yet most poorly understood  exercise  in  the training \n",
      "arsenal  for  a very long  time.  The  full  range  of motion  exercise  known  as  the  squat  is  the  single \n",
      "most useful  exercise in  the weight room,  and  our  most  valuable  tool  for  building  strength,  power, \n",
      "and size (fig. 2-1). \n",
      "\n",
      "The squat is so effective an exercise because of the way it uses the muscles around  the core \n",
      "of the  body.  Much is  made  of core  strength,  and  fortunes  have  been  made  selling new ways  to \n",
      "train the core muscles.  A  correct squat  perfectly  balances  all the  forces around  the knees  and  the \n",
      "hips, using these  muscles in exactly the way the  skeletal biomechanics  are designed  for them  to  be \n",
      "used,  over  their  anatomically  full  range  of motion.  The  postural  muscles  of  the  lower  back,  the \n",
      "upper  back,  the  abdominals  and  lateral  trunk  muscles,  the  costal  (ribcage)  muscles,  and  even  the \n",
      "shoulders  and  arms  are  used  isometrically.  Their  static  contraction  supports  the  trunk  and \n",
      "transfers  kinetic  power  from  the  prime  movers  to  the  bar.  The  trunk  muscles  function  as  the \n",
      "transmission  while  the  hips  and  legs  are  the  engine.  Notice  that  the  core  of the  body  is  at  the \n",
      "center of the  squat,  that  the  muscles  get  smaller  the  farther  away  from  the  core  they  are,  and  that \n",
      "the  squat works  them in  exactly this  priority \n",
      "(fig.  2-2).  Balance  is  provided  by  the \n",
      "interaction  of the  postural  muscles  with  the \n",
      "hips  and  legs,  starting on  the ground  at  the \n",
      "feet  and  proceeding  up  to  the  bar,  and \n",
      "controlled  by  a  massive  amount  of  central \n",
      "nervous  system  activity under the conscious \n",
      "direction  of the  athlete's  mind.  In  addition, \n",
      "the  systemic  nature  of the  movement  when \n",
      "done  with \n",
      "produces \n",
      "hormonal  responses  that  affect  the  entire \n",
      "body.  Not  only is  the  core  strengthened, it \n",
      "is  strengthened  in  the  context  of  a  total \n",
      "physical and mental  experience. \n",
      "\n",
      "heavy  weights \n",
      "\n",
      "The  squat \n",
      "\n",
      "is  poorly  understood \n",
      "because  it involves  the  use of many muscles \n",
      "-  more \n",
      "than  most  people  realize  -  and \n",
      "most  of the  people  that  don't  understand  it \n",
      "have  never  done  it  correctly  themselves. \n",
      "This  means  that  they  can't  appreciate  the \n",
      "true  nature  of  the  movement  and \n",
      "the \n",
      "interactions  of all  the  muscles  working  in  a \n",
      "coordinated  manner, \n",
      "truly \n",
      "understand  a  thing  it  must  be  experienced \n",
      "personally.  The  more  people  who  learn  to \n",
      "squat  correctly,  the  more  people  who  will \n",
      "understand  the  squat  and,  like  ripples  in  a \n",
      "pond,  knowledge  and  strength  will  spread \n",
      "through  the  masses.  This  process  starts \n",
      "here, with you. \n",
      "\n",
      "since \n",
      "\n",
      "to \n",
      "\n",
      "Figure  2-1.  Depth  landmarks  for the  full  squat.  The  top \n",
      "of the  patella  (A)  and the hip joint as  identified  by  the \n",
      "apex of the crease in the shorts (B). The B-side of the \n",
      "plane  formed by these  two  points must drop below \n",
      "parallel  with the  ground. \n",
      "\n",
      "8 \n",
      "\n",
      "\f",
      "\n",
      "Odpowiedź: The low bar squat is a variation of the squat exercise where the barbell is positioned lower on the back, across the rear deltoids and upper trapezius muscles. This positioning allows for a more upright torso during the descent, which can be\n"
     ]
    }
   ],
   "source": [
    "# Testowanie\n",
    "query = \"What is low bar squat?\"\n",
    "answer = generate_answer(query)\n",
    "print(\"Odpowiedź:\", answer)"
   ]
  },
  {
   "cell_type": "code",
   "execution_count": null,
   "id": "bed3658f-83a3-4760-9626-aa3194cd0995",
   "metadata": {},
   "outputs": [],
   "source": []
  }
 ],
 "metadata": {
  "kernelspec": {
   "display_name": "Python 3 (ipykernel)",
   "language": "python",
   "name": "python3"
  },
  "language_info": {
   "codemirror_mode": {
    "name": "ipython",
    "version": 3
   },
   "file_extension": ".py",
   "mimetype": "text/x-python",
   "name": "python",
   "nbconvert_exporter": "python",
   "pygments_lexer": "ipython3",
   "version": "3.12.6"
  }
 },
 "nbformat": 4,
 "nbformat_minor": 5
}
